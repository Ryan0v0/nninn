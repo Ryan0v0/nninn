{
  "cells": [
    {
      "cell_type": "markdown",
      "metadata": {
        "colab_type": "text",
        "id": "view-in-github"
      },
      "source": [
        "<a href=\"https://colab.research.google.com/github/Ryan0v0/nninn/blob/master/vq_vae.ipynb\" target=\"_parent\"><img src=\"https://colab.research.google.com/assets/colab-badge.svg\" alt=\"Open In Colab\"/></a>"
      ]
    },
    {
      "cell_type": "code",
      "execution_count": 1,
      "metadata": {
        "id": "ypctnKd-rCiy"
      },
      "outputs": [],
      "source": [
        "#!pip3 install -U -r requirements.txt"
      ]
    },
    {
      "cell_type": "markdown",
      "metadata": {
        "id": "mMmijt45OkJv"
      },
      "source": [
        "# Step1: Splitting up neural net params into chunks"
      ]
    },
    {
      "cell_type": "code",
      "execution_count": 2,
      "metadata": {
        "colab": {
          "base_uri": "https://localhost:8080/"
        },
        "id": "E8gb85iH90wU",
        "outputId": "275d758b-fa57-47c7-d36c-118ce7cca955"
      },
      "outputs": [
        {
          "name": "stdout",
          "output_type": "stream",
          "text": [
            "Number of parameter chunks: 15\n"
          ]
        }
      ],
      "source": [
        "import torch\n",
        "import torch.nn as nn\n",
        "\n",
        "# Define the neural network architecture\n",
        "class NeuralNetwork(nn.Module):\n",
        "    def __init__(self):\n",
        "        super(NeuralNetwork, self).__init__()\n",
        "        self.fc1 = nn.Linear(10, 100)\n",
        "        self.fc2 = nn.Linear(100, 100)\n",
        "        self.fc3 = nn.Linear(100, 1)\n",
        "\n",
        "        # Initialize the weights to be non-negative\n",
        "        nn.init.uniform_(self.fc1.weight, a=0, b=1)\n",
        "        nn.init.uniform_(self.fc2.weight, a=0, b=1)\n",
        "        nn.init.uniform_(self.fc3.weight, a=0, b=1)\n",
        "\n",
        "    def forward(self, x):\n",
        "        x = torch.relu(self.fc1(x))\n",
        "        x = torch.relu(self.fc2(x))\n",
        "        x = self.fc3(x)\n",
        "        return x\n",
        "\n",
        "# Create an instance of the neural network\n",
        "net = NeuralNetwork()\n",
        "\n",
        "# Split up the neural network parameters into chunks\n",
        "chunk_size = 1000\n",
        "param_chunks = []\n",
        "for param in net.parameters():\n",
        "    flattened_param = param.view(-1)\n",
        "    chunks = torch.split(flattened_param, chunk_size)\n",
        "    param_chunks.extend(chunks)\n",
        "\n",
        "# Print the number of parameter chunks\n",
        "print(\"Number of parameter chunks:\", len(param_chunks))\n",
        "# print(\"Parameter chunks:\", param_chunks)\n"
      ]
    },
    {
      "cell_type": "code",
      "execution_count": 3,
      "metadata": {
        "colab": {
          "base_uri": "https://localhost:8080/"
        },
        "id": "GS1CbLGJR9gL",
        "outputId": "c2c981c7-a230-475f-d5c7-a76015f5bbc6"
      },
      "outputs": [
        {
          "name": "stdout",
          "output_type": "stream",
          "text": [
            "<class 'numpy.ndarray'>\n",
            "size: (11301,)\n"
          ]
        }
      ],
      "source": [
        "import numpy as np\n",
        "\n",
        "# Convert param_chunks to a numpy array\n",
        "param_chunks_np = np.concatenate([chunk.detach().numpy() for chunk in param_chunks])\n",
        "\n",
        "print(type(param_chunks_np))\n",
        "print(\"size:\", param_chunks_np.shape)"
      ]
    },
    {
      "cell_type": "markdown",
      "metadata": {
        "id": "Uo4o1jPJO08f"
      },
      "source": [
        "# Step2: learning a mapping from each chunk to an integer via VQ-VAE"
      ]
    },
    {
      "cell_type": "code",
      "execution_count": 4,
      "metadata": {
        "id": "0X6JeFrWrCi0"
      },
      "outputs": [],
      "source": [
        "from __future__ import print_function\n",
        "\n",
        "\n",
        "import matplotlib.pyplot as plt\n",
        "import numpy as np\n",
        "from scipy.signal import savgol_filter\n",
        "\n",
        "\n",
        "from six.moves import xrange\n",
        "\n",
        "# import umap\n",
        "\n",
        "import torch\n",
        "import torch.nn as nn\n",
        "import torch.nn.functional as F\n",
        "from torch.utils.data import DataLoader\n",
        "import torch.optim as optim\n",
        "\n",
        "import torchvision.datasets as datasets\n",
        "import torchvision.transforms as transforms\n",
        "from torchvision.utils import make_grid"
      ]
    },
    {
      "cell_type": "code",
      "execution_count": 5,
      "metadata": {
        "id": "Mce1mksSrCi0"
      },
      "outputs": [
        {
          "name": "stdout",
          "output_type": "stream",
          "text": [
            "Using device: cuda\n"
          ]
        }
      ],
      "source": [
        "device = torch.device(\"cuda\" if torch.cuda.is_available() else \"cpu\")\n",
        "print(\"Using device:\", device)"
      ]
    },
    {
      "cell_type": "markdown",
      "metadata": {
        "id": "IC0BgGzArCi0"
      },
      "source": [
        "## Load Data\n",
        "\n",
        "using the weights of the above neural network as input."
      ]
    },
    {
      "cell_type": "code",
      "execution_count": 6,
      "metadata": {
        "colab": {
          "base_uri": "https://localhost:8080/"
        },
        "id": "elD5efknVUrr",
        "outputId": "a56ebdbe-f5af-4a4f-a734-b344793ca24d"
      },
      "outputs": [
        {
          "name": "stdout",
          "output_type": "stream",
          "text": [
            "1.3196495e-06\n"
          ]
        }
      ],
      "source": [
        "data_variance = np.var(param_chunks_np / 255.0)\n",
        "\n",
        "print(data_variance)"
      ]
    },
    {
      "cell_type": "markdown",
      "metadata": {
        "id": "YsAR4cQHrCi2"
      },
      "source": [
        "## Vector Quantizer Layer\n",
        "\n",
        "This layer takes a tensor to be quantized. The channel dimension will be used as the space in which to quantize. All other dimensions will be flattened and will be seen as different examples to quantize.\n",
        "\n",
        "The output tensor will have the same shape as the input.\n",
        "\n",
        "As an example for a `BCHW` tensor of shape `[16, 64, 32, 32]`, we will first convert it to an `BHWC` tensor of shape `[16, 32, 32, 64]` and then reshape it into `[16384, 64]` and all `16384` vectors of size `64`  will be quantized independently. In otherwords, the channels are used as the space in which to quantize. All other dimensions will be flattened and be seen as different examples to quantize, `16384` in this case."
      ]
    },
    {
      "cell_type": "code",
      "execution_count": 7,
      "metadata": {
        "id": "Bw84w9yPrCi3"
      },
      "outputs": [],
      "source": [
        "class VectorQuantizer(nn.Module):\n",
        "    def __init__(self, num_embeddings, embedding_dim, commitment_cost):\n",
        "        super(VectorQuantizer, self).__init__()\n",
        "\n",
        "        self._embedding_dim = embedding_dim\n",
        "        self._num_embeddings = num_embeddings\n",
        "\n",
        "        self._embedding = nn.Embedding(self._num_embeddings, self._embedding_dim)\n",
        "        self._embedding.weight.data.uniform_(-1/self._num_embeddings, 1/self._num_embeddings)\n",
        "        self._commitment_cost = commitment_cost\n",
        "\n",
        "    def forward(self, inputs):\n",
        "        '''\n",
        "        # convert inputs from BCHW -> BHWC\n",
        "        inputs = inputs.permute(0, 2, 3, 1).contiguous()\n",
        "        input_shape = inputs.shape\n",
        "        '''\n",
        "        # convert inputs from HW -> HW\n",
        "        inputs = inputs.permute(0, 1).contiguous()\n",
        "        input_shape = inputs.shape\n",
        "\n",
        "        # Flatten input\n",
        "        flat_input = inputs.view(-1, self._embedding_dim)\n",
        "\n",
        "        # Calculate distances\n",
        "        distances = (torch.sum(flat_input**2, dim=1, keepdim=True)\n",
        "                    + torch.sum(self._embedding.weight**2, dim=1)\n",
        "                    - 2 * torch.matmul(flat_input, self._embedding.weight.t()))\n",
        "\n",
        "        # Encoding\n",
        "        encoding_indices = torch.argmin(distances, dim=1).unsqueeze(1)\n",
        "        encodings = torch.zeros(encoding_indices.shape[0], self._num_embeddings, device=inputs.device)\n",
        "        encodings.scatter_(1, encoding_indices, 1)\n",
        "\n",
        "        # Quantize and unflatten\n",
        "        quantized = torch.matmul(encodings, self._embedding.weight).view(input_shape)\n",
        "\n",
        "        # Loss\n",
        "        e_latent_loss = F.mse_loss(quantized.detach(), inputs)\n",
        "        q_latent_loss = F.mse_loss(quantized, inputs.detach())\n",
        "        loss = q_latent_loss + self._commitment_cost * e_latent_loss\n",
        "\n",
        "        quantized = inputs + (quantized - inputs).detach()\n",
        "        avg_probs = torch.mean(encodings, dim=0)\n",
        "        perplexity = torch.exp(-torch.sum(avg_probs * torch.log(avg_probs + 1e-10)))\n",
        "\n",
        "        # convert quantized from BHWC -> BCHW\n",
        "        return loss, quantized.permute(0, 1).contiguous(), perplexity, encodings # (0, 3, 1, 2)"
      ]
    },
    {
      "cell_type": "markdown",
      "metadata": {
        "id": "gXrFrH_UrCi3"
      },
      "source": [
        "We will also implement a slightly modified version  which will use exponential moving averages to update the embedding vectors instead of an auxillary loss. This has the advantage that the embedding updates are independent of the choice of optimizer for the encoder, decoder and other parts of the architecture. For most experiments the EMA version trains faster than the non-EMA version."
      ]
    },
    {
      "cell_type": "code",
      "execution_count": 8,
      "metadata": {
        "id": "PRx68eOsrCi3"
      },
      "outputs": [],
      "source": [
        "class VectorQuantizerEMA(nn.Module):\n",
        "    def __init__(self, num_embeddings, embedding_dim, commitment_cost, decay, epsilon=1e-5):\n",
        "        super(VectorQuantizerEMA, self).__init__()\n",
        "\n",
        "        self._embedding_dim = embedding_dim\n",
        "        self._num_embeddings = num_embeddings\n",
        "\n",
        "        self._embedding = nn.Embedding(self._num_embeddings, self._embedding_dim)\n",
        "        self._embedding.weight.data.normal_()\n",
        "        self._commitment_cost = commitment_cost\n",
        "\n",
        "        self.register_buffer('_ema_cluster_size', torch.zeros(num_embeddings))\n",
        "        self._ema_w = nn.Parameter(torch.Tensor(num_embeddings, self._embedding_dim))\n",
        "        self._ema_w.data.normal_()\n",
        "\n",
        "        self._decay = decay\n",
        "        self._epsilon = epsilon\n",
        "\n",
        "    def forward(self, inputs):\n",
        "        # convert inputs from BCHW -> BHWC\n",
        "        inputs = inputs.permute(0, 1).contiguous() # (0, 2, 3, 1)\n",
        "        input_shape = inputs.shape\n",
        "\n",
        "        # Flatten input\n",
        "        flat_input = inputs.view(-1, self._embedding_dim)\n",
        "\n",
        "        # Calculate distances\n",
        "        distances = (torch.sum(flat_input**2, dim=1, keepdim=True)\n",
        "                    + torch.sum(self._embedding.weight**2, dim=1)\n",
        "                    - 2 * torch.matmul(flat_input, self._embedding.weight.t()))\n",
        "\n",
        "        # Encoding\n",
        "        encoding_indices = torch.argmin(distances, dim=1).unsqueeze(1)\n",
        "        encodings = torch.zeros(encoding_indices.shape[0], self._num_embeddings, device=inputs.device)\n",
        "        encodings.scatter_(1, encoding_indices, 1)\n",
        "\n",
        "        # Quantize and unflatten\n",
        "        quantized = torch.matmul(encodings, self._embedding.weight).view(input_shape)\n",
        "\n",
        "        # Use EMA to update the embedding vectors\n",
        "        if self.training:\n",
        "            self._ema_cluster_size = self._ema_cluster_size * self._decay + \\\n",
        "                                     (1 - self._decay) * torch.sum(encodings, 0)\n",
        "\n",
        "            # Laplace smoothing of the cluster size\n",
        "            n = torch.sum(self._ema_cluster_size.data)\n",
        "            self._ema_cluster_size = (\n",
        "                (self._ema_cluster_size + self._epsilon)\n",
        "                / (n + self._num_embeddings * self._epsilon) * n)\n",
        "\n",
        "            dw = torch.matmul(encodings.t(), flat_input)\n",
        "            self._ema_w = nn.Parameter(self._ema_w * self._decay + (1 - self._decay) * dw)\n",
        "\n",
        "            self._embedding.weight = nn.Parameter(self._ema_w / self._ema_cluster_size.unsqueeze(1))\n",
        "\n",
        "        # Loss\n",
        "        e_latent_loss = F.mse_loss(quantized.detach(), inputs)\n",
        "        loss = self._commitment_cost * e_latent_loss\n",
        "\n",
        "        # Straight Through Estimator\n",
        "        quantized = inputs + (quantized - inputs).detach()\n",
        "        avg_probs = torch.mean(encodings, dim=0)\n",
        "        perplexity = torch.exp(-torch.sum(avg_probs * torch.log(avg_probs + 1e-10)))\n",
        "\n",
        "        # convert quantized from BHWC -> BCHW\n",
        "        return loss, quantized.permute(0, 1).contiguous(), perplexity, encodings # (0, 3, 1, 2)"
      ]
    },
    {
      "cell_type": "markdown",
      "metadata": {
        "id": "mBBSF1p1rCi4"
      },
      "source": [
        "## Encoder & Decoder Architecture\n",
        "\n",
        "The encoder and decoder architecture is based on a ResNet and is implemented below:"
      ]
    },
    {
      "cell_type": "code",
      "execution_count": 9,
      "metadata": {
        "id": "DlplEblqrCi4"
      },
      "outputs": [],
      "source": [
        "\n",
        "class Residual(nn.Module):\n",
        "    def __init__(self, in_channels, num_hiddens, num_residual_hiddens):\n",
        "        super(Residual, self).__init__()\n",
        "        self._block = nn.Sequential(\n",
        "            nn.ReLU(True),\n",
        "            nn.Linear(in_features=in_channels,\n",
        "                      out_features=num_residual_hiddens),\n",
        "            nn.ReLU(True),\n",
        "            nn.Linear(in_features=num_residual_hiddens,\n",
        "                      out_features=num_hiddens) # Replaced with nn.Linear\n",
        "        )\n",
        "\n",
        "    def forward(self, x):\n",
        "        return x + self._block(x)\n",
        "        # x = x.unsqueeze(2)  # Add an extra dimension\n",
        "        # output = x + self._block(x)\n",
        "        # return output.squeeze(2)  # Remove the extra dimension\n",
        "\n",
        "'''\n",
        "class Residual(nn.Module):\n",
        "    def __init__(self, in_channels, num_hiddens, num_residual_hiddens):\n",
        "        super(Residual, self).__init__()\n",
        "        self._block = nn.Sequential(\n",
        "            nn.ReLU(True),\n",
        "            nn.Conv1d(in_channels=in_channels, out_channels=num_residual_hiddens,\n",
        "                      kernel_size=1, stride=1, bias=False)\n",
        "        )\n",
        "\n",
        "    def forward(self, x):\n",
        "        x = x.unsqueeze(2)  # Add an extra dimension\n",
        "        output = x + self._block(x)\n",
        "        return output.squeeze(2)  # Remove the extra dimension\n",
        "'''\n",
        "class ResidualStack(nn.Module):\n",
        "    def __init__(self, in_channels, num_hiddens, num_residual_layers, num_residual_hiddens):\n",
        "        super(ResidualStack, self).__init__()\n",
        "        self._num_residual_layers = num_residual_layers\n",
        "        self._layers = nn.ModuleList([Residual(in_channels, num_hiddens, num_residual_hiddens)\n",
        "                             for _ in range(self._num_residual_layers)])\n",
        "\n",
        "    def forward(self, x):\n",
        "        for i in range(self._num_residual_layers):\n",
        "            x = self._layers[i](x)\n",
        "        return F.relu(x)"
      ]
    },
    {
      "cell_type": "code",
      "execution_count": 10,
      "metadata": {
        "id": "aUz-8SmDrCi4"
      },
      "outputs": [],
      "source": [
        "class Encoder(nn.Module):\n",
        "    def __init__(self, in_channels, num_hiddens, num_residual_layers, num_residual_hiddens):\n",
        "        super(Encoder, self).__init__()\n",
        "\n",
        "        self._linear_1 = nn.Linear(in_channels*64, num_hiddens//2)\n",
        "        self._linear_2 = nn.Linear(num_hiddens//2, num_hiddens)\n",
        "\n",
        "\n",
        "        self._residual_stack = ResidualStack(in_channels=128, #num_hiddens,\n",
        "                                             num_hiddens=1,\n",
        "                                             num_residual_layers=1,\n",
        "                                             num_residual_hiddens=1)\n",
        "\n",
        "\n",
        "    def forward(self, inputs):\n",
        "        x = self._linear_1(inputs.view(inputs.size(0), -1))\n",
        "        print(\"x=\", x.shape)\n",
        "        x = F.relu(x)\n",
        "\n",
        "        x = self._linear_2(x)\n",
        "        x = F.relu(x)\n",
        "\n",
        "        return self._residual_stack(x)"
      ]
    },
    {
      "cell_type": "code",
      "execution_count": 11,
      "metadata": {
        "id": "kP6Yhd3MrCi5"
      },
      "outputs": [],
      "source": [
        "class Decoder(nn.Module):\n",
        "    def __init__(self, in_channels, num_hiddens, num_residual_layers, num_residual_hiddens):\n",
        "        super(Decoder, self).__init__()\n",
        "\n",
        "        self._linear_1 = nn.Linear(in_channels, num_hiddens)\n",
        "\n",
        "        self._residual_stack = ResidualStack(in_channels=128, #num_hiddens,\n",
        "                                             num_hiddens=1,\n",
        "                                             num_residual_layers=1,\n",
        "                                             num_residual_hiddens=1)\n",
        "\n",
        "        self._linear_2 = nn.Linear(num_hiddens, num_hiddens//2)\n",
        "\n",
        "    def forward(self, inputs):\n",
        "        x = self._linear_1(inputs.view(inputs.size(0), -1))\n",
        "        # print(\"x=\", x.shape)\n",
        "        x = self._residual_stack(x)\n",
        "\n",
        "        x = self._linear_2(x)\n",
        "        x = F.relu(x)\n",
        "\n",
        "        return x"
      ]
    },
    {
      "cell_type": "markdown",
      "metadata": {
        "id": "faiz3uawrCi5"
      },
      "source": [
        "## Train\n",
        "\n",
        "We use the hyperparameters from the author's code:"
      ]
    },
    {
      "cell_type": "code",
      "execution_count": 12,
      "metadata": {
        "id": "9IHhIF9crCi5"
      },
      "outputs": [],
      "source": [
        "batch_size = 256\n",
        "num_training_updates = 15000\n",
        "\n",
        "num_hiddens = 128\n",
        "num_residual_hiddens = 32\n",
        "num_residual_layers = 2\n",
        "\n",
        "embedding_dim = 64\n",
        "num_embeddings = 512\n",
        "\n",
        "commitment_cost = 0.25\n",
        "\n",
        "decay = 0.99\n",
        "\n",
        "learning_rate = 1e-3"
      ]
    },
    {
      "cell_type": "code",
      "execution_count": 13,
      "metadata": {
        "colab": {
          "base_uri": "https://localhost:8080/",
          "height": 375
        },
        "id": "JW6vZgTorCi6",
        "outputId": "5076dc89-f6a4-4662-cca0-8db26f88635a"
      },
      "outputs": [],
      "source": [
        "import torch\n",
        "from torch.utils.data import DataLoader, TensorDataset\n",
        "\n",
        "# Create a TensorDataset from param_chunks_np\n",
        "dataset = TensorDataset(torch.from_numpy(param_chunks_np))\n",
        "\n",
        "# Set the batch size and other DataLoader parameters\n",
        "batch_size = 64\n",
        "shuffle = True\n",
        "pin_memory = True\n",
        "\n",
        "# Create the DataLoader using the custom dataset\n",
        "training_loader = DataLoader(dataset, batch_size=batch_size, shuffle=shuffle, pin_memory=pin_memory)\n",
        "data = next(iter(training_loader))\n",
        "data = torch.stack(data).to(device)"
      ]
    },
    {
      "cell_type": "code",
      "execution_count": 14,
      "metadata": {
        "colab": {
          "base_uri": "https://localhost:8080/",
          "height": 1000
        },
        "id": "Yemq6mH1XYaz",
        "outputId": "a9dd1b07-de78-4d5c-c7b1-3012ef521854"
      },
      "outputs": [
        {
          "name": "stdout",
          "output_type": "stream",
          "text": [
            "Files already downloaded and verified\n"
          ]
        }
      ],
      "source": [
        "cifar_training_data = datasets.CIFAR10(root=\"data\", train=True, download=True,\n",
        "                                  transform=transforms.Compose([\n",
        "                                      transforms.ToTensor(),\n",
        "                                      transforms.Normalize((0.5,0.5,0.5), (1.0,1.0,1.0))\n",
        "                                  ]))\n",
        "\n",
        "cifar_training_loader = DataLoader(cifar_training_data,\n",
        "                             batch_size=batch_size,\n",
        "                             shuffle=True,\n",
        "                             pin_memory=True)\n",
        "\n",
        "(data, _) = next(iter(cifar_training_loader))\n",
        "data = data.to(device)"
      ]
    },
    {
      "cell_type": "code",
      "execution_count": 15,
      "metadata": {
        "id": "JDTLi8nUrCi6"
      },
      "outputs": [],
      "source": [
        "class Model(nn.Module):\n",
        "    def __init__(self, num_hiddens, num_residual_layers, num_residual_hiddens,\n",
        "                 num_embeddings, embedding_dim, commitment_cost, decay=0):\n",
        "        super(Model, self).__init__()\n",
        "\n",
        "        # Updated input size to [1, 64]\n",
        "        self._encoder = Encoder(1, num_hiddens,\n",
        "                                num_residual_layers,\n",
        "                                num_residual_hiddens)\n",
        "        print(self._encoder)\n",
        "\n",
        "        # Replaced with nn.Linear\n",
        "        self._pre_vq_linear = nn.Linear(num_hiddens, embedding_dim)\n",
        "\n",
        "        print(self._pre_vq_linear)\n",
        "\n",
        "        if decay > 0.0:\n",
        "            self._vq_vae = VectorQuantizerEMA(num_embeddings, embedding_dim,\n",
        "                                              commitment_cost, decay)\n",
        "        else:\n",
        "            self._vq_vae = VectorQuantizer(num_embeddings, embedding_dim, commitment_cost)\n",
        "\n",
        "        print(self._vq_vae)\n",
        "\n",
        "        self._decoder = Decoder(embedding_dim,\n",
        "                                num_hiddens,\n",
        "                                num_residual_layers,\n",
        "                                num_residual_hiddens)\n",
        "        print(self._decoder)\n",
        "\n",
        "    def forward(self, x):\n",
        "        z = self._encoder(x)\n",
        "        z = z.view(z.size(0), -1)  # Flatten the tensor\n",
        "        z = self._pre_vq_linear(z)\n",
        "\n",
        "        loss, quantized, perplexity, _ = self._vq_vae(z)\n",
        "        x_recon = self._decoder(quantized)\n",
        "\n",
        "        # x_recon = 0\n",
        "        return loss, x_recon, perplexity"
      ]
    },
    {
      "cell_type": "code",
      "execution_count": 16,
      "metadata": {
        "colab": {
          "base_uri": "https://localhost:8080/"
        },
        "id": "pGDClXkCrCi6",
        "outputId": "a4b14eb6-8600-46ea-962e-61d23baf8dfd"
      },
      "outputs": [
        {
          "name": "stdout",
          "output_type": "stream",
          "text": [
            "Encoder(\n",
            "  (_linear_1): Linear(in_features=64, out_features=64, bias=True)\n",
            "  (_linear_2): Linear(in_features=64, out_features=128, bias=True)\n",
            "  (_residual_stack): ResidualStack(\n",
            "    (_layers): ModuleList(\n",
            "      (0): Residual(\n",
            "        (_block): Sequential(\n",
            "          (0): ReLU(inplace=True)\n",
            "          (1): Linear(in_features=128, out_features=1, bias=True)\n",
            "          (2): ReLU(inplace=True)\n",
            "          (3): Linear(in_features=1, out_features=1, bias=True)\n",
            "        )\n",
            "      )\n",
            "    )\n",
            "  )\n",
            ")\n",
            "Linear(in_features=128, out_features=64, bias=True)\n",
            "VectorQuantizerEMA(\n",
            "  (_embedding): Embedding(512, 64)\n",
            ")\n",
            "Decoder(\n",
            "  (_linear_1): Linear(in_features=64, out_features=128, bias=True)\n",
            "  (_residual_stack): ResidualStack(\n",
            "    (_layers): ModuleList(\n",
            "      (0): Residual(\n",
            "        (_block): Sequential(\n",
            "          (0): ReLU(inplace=True)\n",
            "          (1): Linear(in_features=128, out_features=1, bias=True)\n",
            "          (2): ReLU(inplace=True)\n",
            "          (3): Linear(in_features=1, out_features=1, bias=True)\n",
            "        )\n",
            "      )\n",
            "    )\n",
            "  )\n",
            "  (_linear_2): Linear(in_features=128, out_features=64, bias=True)\n",
            ")\n"
          ]
        }
      ],
      "source": [
        "model = Model(num_hiddens, num_residual_layers, num_residual_hiddens,\n",
        "              num_embeddings, embedding_dim,\n",
        "              commitment_cost, decay).to(device)"
      ]
    },
    {
      "cell_type": "code",
      "execution_count": 17,
      "metadata": {
        "id": "t0hRFXzlrCi6"
      },
      "outputs": [],
      "source": [
        "optimizer = optim.Adam(model.parameters(), lr=learning_rate, amsgrad=False)"
      ]
    },
    {
      "cell_type": "code",
      "execution_count": 19,
      "metadata": {
        "colab": {
          "base_uri": "https://localhost:8080/",
          "height": 1000
        },
        "id": "LeKJtXg-rCi7",
        "outputId": "143927c9-94cd-4d1b-d48a-a899261a02bf"
      },
      "outputs": [
        {
          "name": "stdout",
          "output_type": "stream",
          "text": [
            "torch.Size([1, 64])\n",
            "x= torch.Size([1, 64])\n",
            "x= torch.Size([1, 128])\n"
          ]
        },
        {
          "name": "stderr",
          "output_type": "stream",
          "text": [
            "/nfs-share/wz341/miniconda3/envs/py39/lib/python3.9/site-packages/torch/autograd/__init__.py:200: UserWarning: Error detected in ReluBackward0. Traceback of forward call that caused the error:\n",
            "  File \"/nfs-share/wz341/miniconda3/envs/py39/lib/python3.9/runpy.py\", line 197, in _run_module_as_main\n",
            "    return _run_code(code, main_globals, None,\n",
            "  File \"/nfs-share/wz341/miniconda3/envs/py39/lib/python3.9/runpy.py\", line 87, in _run_code\n",
            "    exec(code, run_globals)\n",
            "  File \"/home/wz341/.local/lib/python3.9/site-packages/ipykernel_launcher.py\", line 17, in <module>\n",
            "    app.launch_new_instance()\n",
            "  File \"/home/wz341/.local/lib/python3.9/site-packages/traitlets/config/application.py\", line 1051, in launch_instance\n",
            "    app.start()\n",
            "  File \"/home/wz341/.local/lib/python3.9/site-packages/ipykernel/kernelapp.py\", line 736, in start\n",
            "    self.io_loop.start()\n",
            "  File \"/home/wz341/.local/lib/python3.9/site-packages/tornado/platform/asyncio.py\", line 195, in start\n",
            "    self.asyncio_loop.run_forever()\n",
            "  File \"/nfs-share/wz341/miniconda3/envs/py39/lib/python3.9/asyncio/base_events.py\", line 601, in run_forever\n",
            "    self._run_once()\n",
            "  File \"/nfs-share/wz341/miniconda3/envs/py39/lib/python3.9/asyncio/base_events.py\", line 1905, in _run_once\n",
            "    handle._run()\n",
            "  File \"/nfs-share/wz341/miniconda3/envs/py39/lib/python3.9/asyncio/events.py\", line 80, in _run\n",
            "    self._context.run(self._callback, *self._args)\n",
            "  File \"/home/wz341/.local/lib/python3.9/site-packages/ipykernel/kernelbase.py\", line 516, in dispatch_queue\n",
            "    await self.process_one()\n",
            "  File \"/home/wz341/.local/lib/python3.9/site-packages/ipykernel/kernelbase.py\", line 505, in process_one\n",
            "    await dispatch(*args)\n",
            "  File \"/home/wz341/.local/lib/python3.9/site-packages/ipykernel/kernelbase.py\", line 412, in dispatch_shell\n",
            "    await result\n",
            "  File \"/home/wz341/.local/lib/python3.9/site-packages/ipykernel/kernelbase.py\", line 740, in execute_request\n",
            "    reply_content = await reply_content\n",
            "  File \"/home/wz341/.local/lib/python3.9/site-packages/ipykernel/ipkernel.py\", line 422, in do_execute\n",
            "    res = shell.run_cell(\n",
            "  File \"/home/wz341/.local/lib/python3.9/site-packages/ipykernel/zmqshell.py\", line 546, in run_cell\n",
            "    return super().run_cell(*args, **kwargs)\n",
            "  File \"/home/wz341/.local/lib/python3.9/site-packages/IPython/core/interactiveshell.py\", line 3024, in run_cell\n",
            "    result = self._run_cell(\n",
            "  File \"/home/wz341/.local/lib/python3.9/site-packages/IPython/core/interactiveshell.py\", line 3079, in _run_cell\n",
            "    result = runner(coro)\n",
            "  File \"/home/wz341/.local/lib/python3.9/site-packages/IPython/core/async_helpers.py\", line 129, in _pseudo_sync_runner\n",
            "    coro.send(None)\n",
            "  File \"/home/wz341/.local/lib/python3.9/site-packages/IPython/core/interactiveshell.py\", line 3284, in run_cell_async\n",
            "    has_raised = await self.run_ast_nodes(code_ast.body, cell_name,\n",
            "  File \"/home/wz341/.local/lib/python3.9/site-packages/IPython/core/interactiveshell.py\", line 3466, in run_ast_nodes\n",
            "    if await self.run_code(code, result, async_=asy):\n",
            "  File \"/home/wz341/.local/lib/python3.9/site-packages/IPython/core/interactiveshell.py\", line 3526, in run_code\n",
            "    exec(code_obj, self.user_global_ns, self.user_ns)\n",
            "  File \"/tmp/ipykernel_18513/3170963657.py\", line 11, in <module>\n",
            "    vq_loss, data_recon, perplexity = model(data)\n",
            "  File \"/nfs-share/wz341/miniconda3/envs/py39/lib/python3.9/site-packages/torch/nn/modules/module.py\", line 1501, in _call_impl\n",
            "    return forward_call(*args, **kwargs)\n",
            "  File \"/tmp/ipykernel_18513/661055300.py\", line 32, in forward\n",
            "    z = self._encoder(x)\n",
            "  File \"/nfs-share/wz341/miniconda3/envs/py39/lib/python3.9/site-packages/torch/nn/modules/module.py\", line 1501, in _call_impl\n",
            "    return forward_call(*args, **kwargs)\n",
            "  File \"/tmp/ipykernel_18513/3202410640.py\", line 21, in forward\n",
            "    x = F.relu(x)\n",
            "  File \"/nfs-share/wz341/miniconda3/envs/py39/lib/python3.9/site-packages/torch/nn/functional.py\", line 1457, in relu\n",
            "    result = torch.relu(input)\n",
            " (Triggered internally at ../torch/csrc/autograd/python_anomaly_mode.cpp:114.)\n",
            "  Variable._execution_engine.run_backward(  # Calls into the C++ engine to run the backward pass\n"
          ]
        },
        {
          "ename": "RuntimeError",
          "evalue": "one of the variables needed for gradient computation has been modified by an inplace operation: [torch.cuda.FloatTensor [1, 128]], which is output 0 of ReluBackward0, is at version 1; expected version 0 instead. Hint: the backtrace further above shows the operation that failed to compute its gradient. The variable in question was changed in there or anywhere later. Good luck!",
          "output_type": "error",
          "traceback": [
            "\u001b[0;31m---------------------------------------------------------------------------\u001b[0m",
            "\u001b[0;31mRuntimeError\u001b[0m                              Traceback (most recent call last)",
            "Cell \u001b[0;32mIn[19], line 15\u001b[0m\n\u001b[1;32m     13\u001b[0m torch\u001b[39m.\u001b[39mautograd\u001b[39m.\u001b[39mset_detect_anomaly(\u001b[39mTrue\u001b[39;00m) \u001b[39m# for debug\u001b[39;00m\n\u001b[1;32m     14\u001b[0m loss \u001b[39m=\u001b[39m recon_error \u001b[39m+\u001b[39m vq_loss\n\u001b[0;32m---> 15\u001b[0m loss\u001b[39m.\u001b[39;49mbackward()\n\u001b[1;32m     17\u001b[0m optimizer\u001b[39m.\u001b[39mstep()\n\u001b[1;32m     19\u001b[0m train_res_recon_error\u001b[39m.\u001b[39mappend(recon_error\u001b[39m.\u001b[39mitem())\n",
            "File \u001b[0;32m/nfs-share/wz341/miniconda3/envs/py39/lib/python3.9/site-packages/torch/_tensor.py:487\u001b[0m, in \u001b[0;36mTensor.backward\u001b[0;34m(self, gradient, retain_graph, create_graph, inputs)\u001b[0m\n\u001b[1;32m    477\u001b[0m \u001b[39mif\u001b[39;00m has_torch_function_unary(\u001b[39mself\u001b[39m):\n\u001b[1;32m    478\u001b[0m     \u001b[39mreturn\u001b[39;00m handle_torch_function(\n\u001b[1;32m    479\u001b[0m         Tensor\u001b[39m.\u001b[39mbackward,\n\u001b[1;32m    480\u001b[0m         (\u001b[39mself\u001b[39m,),\n\u001b[0;32m   (...)\u001b[0m\n\u001b[1;32m    485\u001b[0m         inputs\u001b[39m=\u001b[39minputs,\n\u001b[1;32m    486\u001b[0m     )\n\u001b[0;32m--> 487\u001b[0m torch\u001b[39m.\u001b[39;49mautograd\u001b[39m.\u001b[39;49mbackward(\n\u001b[1;32m    488\u001b[0m     \u001b[39mself\u001b[39;49m, gradient, retain_graph, create_graph, inputs\u001b[39m=\u001b[39;49minputs\n\u001b[1;32m    489\u001b[0m )\n",
            "File \u001b[0;32m/nfs-share/wz341/miniconda3/envs/py39/lib/python3.9/site-packages/torch/autograd/__init__.py:200\u001b[0m, in \u001b[0;36mbackward\u001b[0;34m(tensors, grad_tensors, retain_graph, create_graph, grad_variables, inputs)\u001b[0m\n\u001b[1;32m    195\u001b[0m     retain_graph \u001b[39m=\u001b[39m create_graph\n\u001b[1;32m    197\u001b[0m \u001b[39m# The reason we repeat same the comment below is that\u001b[39;00m\n\u001b[1;32m    198\u001b[0m \u001b[39m# some Python versions print out the first line of a multi-line function\u001b[39;00m\n\u001b[1;32m    199\u001b[0m \u001b[39m# calls in the traceback and some print out the last line\u001b[39;00m\n\u001b[0;32m--> 200\u001b[0m Variable\u001b[39m.\u001b[39;49m_execution_engine\u001b[39m.\u001b[39;49mrun_backward(  \u001b[39m# Calls into the C++ engine to run the backward pass\u001b[39;49;00m\n\u001b[1;32m    201\u001b[0m     tensors, grad_tensors_, retain_graph, create_graph, inputs,\n\u001b[1;32m    202\u001b[0m     allow_unreachable\u001b[39m=\u001b[39;49m\u001b[39mTrue\u001b[39;49;00m, accumulate_grad\u001b[39m=\u001b[39;49m\u001b[39mTrue\u001b[39;49;00m)\n",
            "\u001b[0;31mRuntimeError\u001b[0m: one of the variables needed for gradient computation has been modified by an inplace operation: [torch.cuda.FloatTensor [1, 128]], which is output 0 of ReluBackward0, is at version 1; expected version 0 instead. Hint: the backtrace further above shows the operation that failed to compute its gradient. The variable in question was changed in there or anywhere later. Good luck!"
          ]
        }
      ],
      "source": [
        "model.train()\n",
        "train_res_recon_error = []\n",
        "train_res_perplexity = []\n",
        "\n",
        "for i in xrange(num_training_updates):\n",
        "    data = next(iter(training_loader))\n",
        "    data = torch.stack(data).to(device)\n",
        "    optimizer.zero_grad()\n",
        "\n",
        "    print(data.shape)\n",
        "    vq_loss, data_recon, perplexity = model(data)\n",
        "    recon_error = F.mse_loss(data_recon, data) / data_variance\n",
        "    torch.autograd.set_detect_anomaly(True) # for debug\n",
        "    loss = recon_error + vq_loss\n",
        "    loss.backward()\n",
        "\n",
        "    optimizer.step()\n",
        "\n",
        "    train_res_recon_error.append(recon_error.item())\n",
        "    train_res_perplexity.append(perplexity.item())\n",
        "\n",
        "    if (i+1) % 100 == 0:\n",
        "        print('%d iterations' % (i+1))\n",
        "        print('recon_error: %.3f' % np.mean(train_res_recon_error[-100:]))\n",
        "        print('perplexity: %.3f' % np.mean(train_res_perplexity[-100:]))\n",
        "        print()"
      ]
    },
    {
      "cell_type": "markdown",
      "metadata": {
        "id": "6-vxEsMNKzpW"
      },
      "source": [
        "\n",
        "*The reason of the error:*\n",
        "\n",
        "When using the ReLU activation function, if the input of a neuron is negative, it causes the neuron to output zero constantly, resulting in deactivation. Since the gradient is zero at this point, it cannot recover.\n",
        "\n"
      ]
    },
    {
      "cell_type": "markdown",
      "metadata": {
        "id": "szkLa9JcrCi7"
      },
      "source": [
        "## Plot Loss"
      ]
    },
    {
      "cell_type": "code",
      "execution_count": null,
      "metadata": {
        "id": "__AOkue0rCi7"
      },
      "outputs": [
        {
          "ename": "ValueError",
          "evalue": "If mode is 'interp', window_length must be less than or equal to the size of x.",
          "output_type": "error",
          "traceback": [
            "\u001b[0;31m---------------------------------------------------------------------------\u001b[0m",
            "\u001b[0;31mValueError\u001b[0m                                Traceback (most recent call last)",
            "Cell \u001b[0;32mIn[19], line 1\u001b[0m\n\u001b[0;32m----> 1\u001b[0m train_res_recon_error_smooth \u001b[39m=\u001b[39m savgol_filter(train_res_recon_error, \u001b[39m201\u001b[39;49m, \u001b[39m7\u001b[39;49m)\n\u001b[1;32m      2\u001b[0m train_res_perplexity_smooth \u001b[39m=\u001b[39m savgol_filter(train_res_perplexity, \u001b[39m201\u001b[39m, \u001b[39m7\u001b[39m)\n",
            "File \u001b[0;32m/nfs-share/wz341/miniconda3/envs/py39/lib/python3.9/site-packages/scipy/signal/_savitzky_golay.py:345\u001b[0m, in \u001b[0;36msavgol_filter\u001b[0;34m(x, window_length, polyorder, deriv, delta, axis, mode, cval)\u001b[0m\n\u001b[1;32m    343\u001b[0m \u001b[39mif\u001b[39;00m mode \u001b[39m==\u001b[39m \u001b[39m\"\u001b[39m\u001b[39minterp\u001b[39m\u001b[39m\"\u001b[39m:\n\u001b[1;32m    344\u001b[0m     \u001b[39mif\u001b[39;00m window_length \u001b[39m>\u001b[39m x\u001b[39m.\u001b[39mshape[axis]:\n\u001b[0;32m--> 345\u001b[0m         \u001b[39mraise\u001b[39;00m \u001b[39mValueError\u001b[39;00m(\u001b[39m\"\u001b[39m\u001b[39mIf mode is \u001b[39m\u001b[39m'\u001b[39m\u001b[39minterp\u001b[39m\u001b[39m'\u001b[39m\u001b[39m, window_length must be less \u001b[39m\u001b[39m\"\u001b[39m\n\u001b[1;32m    346\u001b[0m                          \u001b[39m\"\u001b[39m\u001b[39mthan or equal to the size of x.\u001b[39m\u001b[39m\"\u001b[39m)\n\u001b[1;32m    348\u001b[0m     \u001b[39m# Do not pad. Instead, for the elements within `window_length // 2`\u001b[39;00m\n\u001b[1;32m    349\u001b[0m     \u001b[39m# of the ends of the sequence, use the polynomial that is fitted to\u001b[39;00m\n\u001b[1;32m    350\u001b[0m     \u001b[39m# the last `window_length` elements.\u001b[39;00m\n\u001b[1;32m    351\u001b[0m     y \u001b[39m=\u001b[39m convolve1d(x, coeffs, axis\u001b[39m=\u001b[39maxis, mode\u001b[39m=\u001b[39m\u001b[39m\"\u001b[39m\u001b[39mconstant\u001b[39m\u001b[39m\"\u001b[39m)\n",
            "\u001b[0;31mValueError\u001b[0m: If mode is 'interp', window_length must be less than or equal to the size of x."
          ]
        }
      ],
      "source": [
        "train_res_recon_error_smooth = savgol_filter(train_res_recon_error, 201, 7)\n",
        "train_res_perplexity_smooth = savgol_filter(train_res_perplexity, 201, 7)"
      ]
    },
    {
      "cell_type": "code",
      "execution_count": null,
      "metadata": {
        "id": "9sp67spXrCi7"
      },
      "outputs": [
        {
          "ename": "NameError",
          "evalue": "name 'train_res_recon_error_smooth' is not defined",
          "output_type": "error",
          "traceback": [
            "\u001b[0;31m---------------------------------------------------------------------------\u001b[0m",
            "\u001b[0;31mNameError\u001b[0m                                 Traceback (most recent call last)",
            "Cell \u001b[0;32mIn[21], line 4\u001b[0m\n\u001b[1;32m      1\u001b[0m f \u001b[39m=\u001b[39m plt\u001b[39m.\u001b[39mfigure(figsize\u001b[39m=\u001b[39m(\u001b[39m16\u001b[39m,\u001b[39m8\u001b[39m))\n\u001b[1;32m      2\u001b[0m ax \u001b[39m=\u001b[39m f\u001b[39m.\u001b[39madd_subplot(\u001b[39m1\u001b[39m,\u001b[39m2\u001b[39m,\u001b[39m1\u001b[39m)\n\u001b[0;32m----> 4\u001b[0m ax\u001b[39m.\u001b[39mplot(train_res_recon_error_smooth)\n\u001b[1;32m      5\u001b[0m ax\u001b[39m.\u001b[39mset_yscale(\u001b[39m'\u001b[39m\u001b[39mlog\u001b[39m\u001b[39m'\u001b[39m)\n\u001b[1;32m      6\u001b[0m ax\u001b[39m.\u001b[39mset_title(\u001b[39m'\u001b[39m\u001b[39mSmoothed NMSE.\u001b[39m\u001b[39m'\u001b[39m)\n",
            "\u001b[0;31mNameError\u001b[0m: name 'train_res_recon_error_smooth' is not defined"
          ]
        },
        {
          "data": {
            "image/png": "[encoded data removed]",
            "text/plain": [
              "<Figure size 1600x800 with 1 Axes>"
            ]
          },
          "metadata": {},
          "output_type": "display_data"
        }
      ],
      "source": [
        "f = plt.figure(figsize=(16,8))\n",
        "ax = f.add_subplot(1,2,1)\n",
        "\n",
        "ax.plot(train_res_recon_error_smooth)\n",
        "ax.set_yscale('log')\n",
        "ax.set_title('Smoothed NMSE.')\n",
        "ax.set_xlabel('iteration')"
      ]
    },
    {
      "cell_type": "markdown",
      "metadata": {
        "id": "0kMbb0fPrCi7"
      },
      "source": [
        "## View Reconstructions"
      ]
    },
    {
      "cell_type": "code",
      "execution_count": null,
      "metadata": {
        "id": "CnVCwvK8rCi8"
      },
      "outputs": [
        {
          "name": "stdout",
          "output_type": "stream",
          "text": [
            "x= torch.Size([1, 64])\n",
            "vq_output_eval= tensor([[-0.0477,  0.0221,  0.1337, -0.0218, -0.0088, -0.0571,  0.0140, -0.0431,\n",
            "          0.0260,  0.0760,  0.0294,  0.0530,  0.2547, -0.0595,  0.0584,  0.0039,\n",
            "         -0.0711, -0.1407,  0.0040, -0.0165,  0.0311,  0.0448, -0.1313, -0.1436,\n",
            "          0.0465, -0.0769,  0.1575, -0.0614, -0.0277,  0.0246, -0.0076,  0.0137,\n",
            "         -0.0055, -0.0285,  0.0194,  0.0659, -0.0700,  0.0541,  0.0672, -0.0685,\n",
            "          0.0471, -0.1264, -0.0421, -0.0016,  0.0156,  0.0089, -0.0253,  0.0213,\n",
            "          0.0775,  0.0926,  0.1420,  0.0426, -0.0349, -0.0335,  0.0956, -0.0936,\n",
            "         -0.0062, -0.1986,  0.0896, -0.0321,  0.0446, -0.0291, -0.0285, -0.0614]],\n",
            "       device='cuda:0', grad_fn=<AddmmBackward0>)\n",
            "vq_output_eval.shape= torch.Size([1, 64])\n",
            "tensor([[ -86.0916,  -17.0035,   79.8246,   -0.5334,  153.4640,  -56.0641,\n",
            "           23.2304,   40.4560,   43.1936,  -99.2033,    8.3160,  -56.6413,\n",
            "           40.9395,  -85.5476,   25.8461,   36.1850,   -3.2647,  -13.1037,\n",
            "           27.5832,  -25.3009,  112.8127,  124.9841,    4.5309,   64.4778,\n",
            "           16.1428,   73.9451,   37.8276,   25.4614,  -59.7073, -129.0263,\n",
            "           -8.8862, -145.3185,  -44.2671,   13.3348,   27.7796,  -36.1558,\n",
            "           13.4431,   40.2050, -129.4886,    3.3624,  -47.1796,   -9.0617,\n",
            "          -79.5192,   12.3017,  -31.4731, -102.9942,   -2.6480,  -13.4176,\n",
            "           88.1536,  104.3237,  -16.0206,   82.8794, -203.2158,   24.0475,\n",
            "            8.2784,  102.9011,  -20.0971, -100.2792,  116.4569,   57.5740,\n",
            "           39.1124,   39.1452,  -14.2453,  -12.3913]], device='cuda:0',\n",
            "       grad_fn=<PermuteBackward0>)\n",
            "valid_quantize= tensor([[ -86.0916,  -17.0035,   79.8246,   -0.5334,  153.4640,  -56.0641,\n",
            "           23.2304,   40.4560,   43.1936,  -99.2033,    8.3160,  -56.6413,\n",
            "           40.9395,  -85.5476,   25.8461,   36.1850,   -3.2647,  -13.1037,\n",
            "           27.5832,  -25.3009,  112.8127,  124.9841,    4.5309,   64.4778,\n",
            "           16.1428,   73.9451,   37.8276,   25.4614,  -59.7073, -129.0263,\n",
            "           -8.8862, -145.3185,  -44.2671,   13.3348,   27.7796,  -36.1558,\n",
            "           13.4431,   40.2050, -129.4886,    3.3624,  -47.1796,   -9.0617,\n",
            "          -79.5192,   12.3017,  -31.4731, -102.9942,   -2.6480,  -13.4176,\n",
            "           88.1536,  104.3237,  -16.0206,   82.8794, -203.2158,   24.0475,\n",
            "            8.2784,  102.9011,  -20.0971, -100.2792,  116.4569,   57.5740,\n",
            "           39.1124,   39.1452,  -14.2453,  -12.3913]], device='cuda:0',\n",
            "       grad_fn=<PermuteBackward0>)\n",
            "valid_quantize.shape= torch.Size([1, 64])\n",
            "x= torch.Size([1, 128])\n"
          ]
        }
      ],
      "source": [
        "model.eval()\n",
        "\n",
        "data = next(iter(training_loader))\n",
        "train_originals = torch.stack(data).to(device)\n",
        "vq_output_eval = model._pre_vq_linear(model._encoder(train_originals))\n",
        "print(\"vq_output_eval=\", vq_output_eval)\n",
        "print(\"vq_output_eval.shape=\", vq_output_eval.shape)\n",
        "_, valid_quantize, _, _ = model._vq_vae(vq_output_eval)\n",
        "print(valid_quantize)\n",
        "print(\"valid_quantize=\", valid_quantize)\n",
        "print(\"valid_quantize.shape=\", valid_quantize.shape)\n",
        "valid_reconstructions = model._decoder(valid_quantize)"
      ]
    },
    {
      "cell_type": "code",
      "execution_count": null,
      "metadata": {
        "id": "l9RF5noYrCi8"
      },
      "outputs": [],
      "source": [
        "def show(img):\n",
        "    npimg = img.numpy()\n",
        "    fig = plt.imshow(np.transpose(npimg, (1,2,0)), interpolation='nearest')\n",
        "    fig.axes.get_xaxis().set_visible(False)\n",
        "    fig.axes.get_yaxis().set_visible(False)"
      ]
    },
    {
      "cell_type": "code",
      "execution_count": null,
      "metadata": {
        "id": "3VAi9TanrCi8"
      },
      "outputs": [
        {
          "name": "stderr",
          "output_type": "stream",
          "text": [
            "Clipping input data to the valid range for imshow with RGB data ([0..1] for floats or [0..255] for integers).\n"
          ]
        },
        {
          "data": {
            "image/png": "[encoded data removed]",
            "text/plain": [
              "<Figure size 640x480 with 1 Axes>"
            ]
          },
          "metadata": {},
          "output_type": "display_data"
        }
      ],
      "source": [
        "show(make_grid(valid_reconstructions.cpu().data)+0.5, )"
      ]
    },
    {
      "cell_type": "code",
      "execution_count": null,
      "metadata": {
        "id": "J620xHA6rCi8"
      },
      "outputs": [
        {
          "name": "stderr",
          "output_type": "stream",
          "text": [
            "Clipping input data to the valid range for imshow with RGB data ([0..1] for floats or [0..255] for integers).\n"
          ]
        },
        {
          "data": {
            "image/png": "[encoded data removed]",
            "text/plain": [
              "<Figure size 640x480 with 1 Axes>"
            ]
          },
          "metadata": {},
          "output_type": "display_data"
        }
      ],
      "source": [
        "show(make_grid(train_originals.cpu()+0.5))"
      ]
    },
    {
      "cell_type": "markdown",
      "metadata": {
        "id": "Zqs594NmrCi8"
      },
      "source": [
        "## View Embedding"
      ]
    },
    {
      "cell_type": "code",
      "execution_count": null,
      "metadata": {
        "id": "oW0ZlSrHrCi8"
      },
      "outputs": [
        {
          "name": "stdout",
          "output_type": "stream",
          "text": [
            "\u001b[33mWARNING: Ignoring invalid distribution -ransformers (/nfs-share/wz341/miniconda3/envs/py39/lib/python3.9/site-packages)\u001b[0m\u001b[33m\n",
            "\u001b[0m\u001b[33mWARNING: Skipping umap as it is not installed.\u001b[0m\u001b[33m\n",
            "\u001b[0m\u001b[33mWARNING: Ignoring invalid distribution -ransformers (/nfs-share/wz341/miniconda3/envs/py39/lib/python3.9/site-packages)\u001b[0m\u001b[33m\n",
            "\u001b[0mCollecting umap-learn\n",
            "  Downloading umap-learn-0.5.4.tar.gz (90 kB)\n",
            "\u001b[2K     \u001b[90m━━━━━━━━━━━━━━━━━━━━━━━━━━━━━━━━━━━━━━━━\u001b[0m \u001b[32m90.8/90.8 kB\u001b[0m \u001b[31m4.9 MB/s\u001b[0m eta \u001b[36m0:00:00\u001b[0m\n",
            "\u001b[?25h  Preparing metadata (setup.py) ... \u001b[?25ldone\n",
            "\u001b[?25hRequirement already satisfied: numpy>=1.17 in /home/wz341/.local/lib/python3.9/site-packages (from umap-learn) (1.25.2)\n",
            "Requirement already satisfied: scipy>=1.3.1 in /nfs-share/wz341/miniconda3/envs/py39/lib/python3.9/site-packages (from umap-learn) (1.10.1)\n",
            "Requirement already satisfied: scikit-learn>=0.22 in /nfs-share/wz341/miniconda3/envs/py39/lib/python3.9/site-packages (from umap-learn) (1.0.1)\n",
            "Collecting numba>=0.51.2 (from umap-learn)\n",
            "  Downloading numba-0.58.0-cp39-cp39-manylinux2014_x86_64.manylinux_2_17_x86_64.whl (3.6 MB)\n",
            "\u001b[2K     \u001b[90m━━━━━━━━━━━━━━━━━━━━━━━━━━━━━━━━━━━━━━━━\u001b[0m \u001b[32m3.6/3.6 MB\u001b[0m \u001b[31m15.9 MB/s\u001b[0m eta \u001b[36m0:00:00\u001b[0m00:01\u001b[0m00:01\u001b[0m\n",
            "\u001b[?25hCollecting pynndescent>=0.5 (from umap-learn)\n",
            "  Downloading pynndescent-0.5.10.tar.gz (1.1 MB)\n",
            "\u001b[2K     \u001b[90m━━━━━━━━━━━━━━━━━━━━━━━━━━━━━━━━━━━━━━━━\u001b[0m \u001b[32m1.1/1.1 MB\u001b[0m \u001b[31m29.4 MB/s\u001b[0m eta \u001b[36m0:00:00\u001b[0m00:01\u001b[0m\n",
            "\u001b[?25h  Preparing metadata (setup.py) ... \u001b[?25ldone\n",
            "\u001b[?25hRequirement already satisfied: tqdm in /nfs-share/wz341/miniconda3/envs/py39/lib/python3.9/site-packages (from umap-learn) (4.64.0)\n",
            "Collecting tbb>=2019.0 (from umap-learn)\n",
            "  Downloading tbb-2021.10.0-py2.py3-none-manylinux1_x86_64.whl (4.4 MB)\n",
            "\u001b[2K     \u001b[90m━━━━━━━━━━━━━━━━━━━━━━━━━━━━━━━━━━━━━━━━\u001b[0m \u001b[32m4.4/4.4 MB\u001b[0m \u001b[31m36.2 MB/s\u001b[0m eta \u001b[36m0:00:00\u001b[0m00:01\u001b[0m00:01\u001b[0m\n",
            "\u001b[?25hCollecting llvmlite<0.42,>=0.41.0dev0 (from numba>=0.51.2->umap-learn)\n",
            "  Downloading llvmlite-0.41.0-cp39-cp39-manylinux_2_17_x86_64.manylinux2014_x86_64.whl (43.6 MB)\n",
            "\u001b[2K     \u001b[90m━━━━━━━━━━━━━━━━━━━━━━━━━━━━━━━━━━━━━━━━\u001b[0m \u001b[32m43.6/43.6 MB\u001b[0m \u001b[31m31.4 MB/s\u001b[0m eta \u001b[36m0:00:00\u001b[0m00:01\u001b[0m00:01\u001b[0m\n",
            "\u001b[?25hRequirement already satisfied: joblib>=0.11 in /nfs-share/wz341/miniconda3/envs/py39/lib/python3.9/site-packages (from pynndescent>=0.5->umap-learn) (1.3.1)\n",
            "Requirement already satisfied: threadpoolctl>=2.0.0 in /nfs-share/wz341/miniconda3/envs/py39/lib/python3.9/site-packages (from scikit-learn>=0.22->umap-learn) (3.2.0)\n",
            "Building wheels for collected packages: umap-learn, pynndescent\n",
            "  Building wheel for umap-learn (setup.py) ... \u001b[?25ldone\n",
            "\u001b[?25h  Created wheel for umap-learn: filename=umap_learn-0.5.4-py3-none-any.whl size=86776 sha256=61195d01cda53e65d1722b6e8ada3025ae6ddf21ebdd4fbb83f7d168fc70f3b0\n",
            "  Stored in directory: /home/wz341/.cache/pip/wheels/e1/8b/ec/51afd5b0c041b6a7dd5777ceb58cc0d645ba9454cc5a923e96\n",
            "  Building wheel for pynndescent (setup.py) ... \u001b[?25ldone\n",
            "\u001b[?25h  Created wheel for pynndescent: filename=pynndescent-0.5.10-py3-none-any.whl size=55623 sha256=084225050f2a36dd2b620dc55d8ef9aa25bd61b3b5f9ad6e493823ca3e3e5b28\n",
            "  Stored in directory: /home/wz341/.cache/pip/wheels/12/f9/4d/ec5ad1c823c710fcc4473669fdcffc8891f4bc398c841af22e\n",
            "Successfully built umap-learn pynndescent\n",
            "\u001b[33mWARNING: Ignoring invalid distribution -ransformers (/nfs-share/wz341/miniconda3/envs/py39/lib/python3.9/site-packages)\u001b[0m\u001b[33m\n",
            "\u001b[0mInstalling collected packages: tbb, llvmlite, numba, pynndescent, umap-learn\n",
            "Successfully installed llvmlite-0.41.0 numba-0.58.0 pynndescent-0.5.10 tbb-2021.10.0 umap-learn-0.5.4\n"
          ]
        }
      ],
      "source": [
        "! pip uninstall umap\n",
        "! pip install umap-learn\n",
        "\n",
        "import umap.umap_ as umap\n",
        "\n",
        "proj = umap.UMAP(n_neighbors=3,\n",
        "                 min_dist=0.1,\n",
        "                 metric='cosine').fit_transform(model._vq_vae._embedding.weight.data.cpu())"
      ]
    },
    {
      "cell_type": "code",
      "execution_count": null,
      "metadata": {
        "id": "dNXVBcWCrCi9"
      },
      "outputs": [
        {
          "data": {
            "text/plain": [
              "<matplotlib.collections.PathCollection at 0x7fb2b2f892e0>"
            ]
          },
          "execution_count": 27,
          "metadata": {},
          "output_type": "execute_result"
        },
        {
          "data": {
            "image/png": "[encoded data removed]",
            "text/plain": [
              "<Figure size 640x480 with 1 Axes>"
            ]
          },
          "metadata": {},
          "output_type": "display_data"
        }
      ],
      "source": [
        "plt.scatter(proj[:,0], proj[:,1], alpha=0.3)"
      ]
    }
  ],
  "metadata": {
    "colab": {
      "include_colab_link": true,
      "provenance": []
    },
    "kernelspec": {
      "display_name": "Python 3",
      "language": "python",
      "name": "python3"
    },
    "language_info": {
      "codemirror_mode": {
        "name": "ipython",
        "version": 3
      },
      "file_extension": ".py",
      "mimetype": "text/x-python",
      "name": "python",
      "nbconvert_exporter": "python",
      "pygments_lexer": "ipython3",
      "version": "3.9.17"
    }
  },
  "nbformat": 4,
  "nbformat_minor": 0
}
