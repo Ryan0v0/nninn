{
  "cells": [
    {
      "cell_type": "markdown",
      "metadata": {
        "colab_type": "text",
        "id": "view-in-github"
      },
      "source": [
        "<a href=\"https://colab.research.google.com/github/Ryan0v0/nninn/blob/master/vq_vae.ipynb\" target=\"_parent\"><img src=\"https://colab.research.google.com/assets/colab-badge.svg\" alt=\"Open In Colab\"/></a>"
      ]
    },
    {
      "cell_type": "code",
      "execution_count": 2,
      "metadata": {
        "id": "ypctnKd-rCiy"
      },
      "outputs": [],
      "source": [
        "#!pip3 install -U -r requirements.txt"
      ]
    },
    {
      "cell_type": "markdown",
      "metadata": {
        "id": "mMmijt45OkJv"
      },
      "source": [
        "# Step1: Splitting up neural net params into chunks"
      ]
    },
    {
      "cell_type": "code",
      "execution_count": 3,
      "metadata": {
        "colab": {
          "base_uri": "https://localhost:8080/"
        },
        "id": "E8gb85iH90wU",
        "outputId": "275d758b-fa57-47c7-d36c-118ce7cca955"
      },
      "outputs": [
        {
          "name": "stdout",
          "output_type": "stream",
          "text": [
            "Number of parameter chunks: 15\n"
          ]
        }
      ],
      "source": [
        "import torch\n",
        "import torch.nn as nn\n",
        "\n",
        "# Define the neural network architecture\n",
        "class NeuralNetwork(nn.Module):\n",
        "    def __init__(self):\n",
        "        super(NeuralNetwork, self).__init__()\n",
        "        self.fc1 = nn.Linear(10, 100)\n",
        "        self.fc2 = nn.Linear(100, 100)\n",
        "        self.fc3 = nn.Linear(100, 1)\n",
        "\n",
        "        # Initialize the weights to be non-negative\n",
        "        nn.init.uniform_(self.fc1.weight, a=0, b=1)\n",
        "        nn.init.uniform_(self.fc2.weight, a=0, b=1)\n",
        "        nn.init.uniform_(self.fc3.weight, a=0, b=1)\n",
        "\n",
        "    def forward(self, x):\n",
        "        x = torch.relu(self.fc1(x))\n",
        "        x = torch.relu(self.fc2(x))\n",
        "        x = self.fc3(x)\n",
        "        return x\n",
        "\n",
        "# Create an instance of the neural network\n",
        "net = NeuralNetwork()\n",
        "\n",
        "# Split up the neural network parameters into chunks\n",
        "chunk_size = 1000\n",
        "param_chunks = []\n",
        "for param in net.parameters():\n",
        "    flattened_param = param.view(-1)\n",
        "    chunks = torch.split(flattened_param, chunk_size)\n",
        "    param_chunks.extend(chunks)\n",
        "\n",
        "# Print the number of parameter chunks\n",
        "print(\"Number of parameter chunks:\", len(param_chunks))\n",
        "# print(\"Parameter chunks:\", param_chunks)\n"
      ]
    },
    {
      "cell_type": "code",
      "execution_count": 4,
      "metadata": {
        "colab": {
          "base_uri": "https://localhost:8080/"
        },
        "id": "GS1CbLGJR9gL",
        "outputId": "c2c981c7-a230-475f-d5c7-a76015f5bbc6"
      },
      "outputs": [
        {
          "name": "stdout",
          "output_type": "stream",
          "text": [
            "<class 'numpy.ndarray'>\n",
            "size: (11301,)\n"
          ]
        }
      ],
      "source": [
        "import numpy as np\n",
        "\n",
        "# Convert param_chunks to a numpy array\n",
        "param_chunks_np = np.concatenate([chunk.detach().numpy() for chunk in param_chunks])\n",
        "\n",
        "print(type(param_chunks_np))\n",
        "print(\"size:\", param_chunks_np.shape)"
      ]
    },
    {
      "cell_type": "markdown",
      "metadata": {
        "id": "Uo4o1jPJO08f"
      },
      "source": [
        "# Step2: learning a mapping from each chunk to an integer via VQ-VAE"
      ]
    },
    {
      "cell_type": "code",
      "execution_count": 5,
      "metadata": {
        "id": "0X6JeFrWrCi0"
      },
      "outputs": [],
      "source": [
        "from __future__ import print_function\n",
        "\n",
        "\n",
        "import matplotlib.pyplot as plt\n",
        "import numpy as np\n",
        "from scipy.signal import savgol_filter\n",
        "\n",
        "\n",
        "from six.moves import xrange\n",
        "\n",
        "# import umap\n",
        "\n",
        "import torch\n",
        "import torch.nn as nn\n",
        "import torch.nn.functional as F\n",
        "from torch.utils.data import DataLoader\n",
        "import torch.optim as optim\n",
        "\n",
        "import torchvision.datasets as datasets\n",
        "import torchvision.transforms as transforms\n",
        "from torchvision.utils import make_grid"
      ]
    },
    {
      "cell_type": "code",
      "execution_count": 6,
      "metadata": {
        "id": "Mce1mksSrCi0"
      },
      "outputs": [
        {
          "name": "stdout",
          "output_type": "stream",
          "text": [
            "Using device: cuda\n"
          ]
        }
      ],
      "source": [
        "device = torch.device(\"cuda\" if torch.cuda.is_available() else \"cpu\")\n",
        "print(\"Using device:\", device)"
      ]
    },
    {
      "cell_type": "markdown",
      "metadata": {
        "id": "IC0BgGzArCi0"
      },
      "source": [
        "## Load Data\n",
        "\n",
        "using the weights of the above neural network as input."
      ]
    },
    {
      "cell_type": "code",
      "execution_count": 7,
      "metadata": {
        "colab": {
          "base_uri": "https://localhost:8080/"
        },
        "id": "elD5efknVUrr",
        "outputId": "a56ebdbe-f5af-4a4f-a734-b344793ca24d"
      },
      "outputs": [
        {
          "name": "stdout",
          "output_type": "stream",
          "text": [
            "1.3580712e-06\n"
          ]
        }
      ],
      "source": [
        "data_variance = np.var(param_chunks_np / 255.0)\n",
        "\n",
        "print(data_variance)"
      ]
    },
    {
      "cell_type": "markdown",
      "metadata": {
        "id": "YsAR4cQHrCi2"
      },
      "source": [
        "## Vector Quantizer Layer\n",
        "\n",
        "This layer takes a tensor to be quantized. The channel dimension will be used as the space in which to quantize. All other dimensions will be flattened and will be seen as different examples to quantize.\n",
        "\n",
        "The output tensor will have the same shape as the input.\n",
        "\n",
        "As an example for a `BCHW` tensor of shape `[16, 64, 32, 32]`, we will first convert it to an `BHWC` tensor of shape `[16, 32, 32, 64]` and then reshape it into `[16384, 64]` and all `16384` vectors of size `64`  will be quantized independently. In otherwords, the channels are used as the space in which to quantize. All other dimensions will be flattened and be seen as different examples to quantize, `16384` in this case."
      ]
    },
    {
      "cell_type": "code",
      "execution_count": 8,
      "metadata": {
        "id": "Bw84w9yPrCi3"
      },
      "outputs": [],
      "source": [
        "class VectorQuantizer(nn.Module):\n",
        "    def __init__(self, num_embeddings, embedding_dim, commitment_cost):\n",
        "        super(VectorQuantizer, self).__init__()\n",
        "\n",
        "        self._embedding_dim = embedding_dim\n",
        "        self._num_embeddings = num_embeddings\n",
        "\n",
        "        self._embedding = nn.Embedding(self._num_embeddings, self._embedding_dim)\n",
        "        self._embedding.weight.data.uniform_(-1/self._num_embeddings, 1/self._num_embeddings)\n",
        "        self._commitment_cost = commitment_cost\n",
        "\n",
        "    def forward(self, inputs):\n",
        "        '''\n",
        "        # convert inputs from BCHW -> BHWC\n",
        "        inputs = inputs.permute(0, 2, 3, 1).contiguous()\n",
        "        input_shape = inputs.shape\n",
        "        '''\n",
        "        # convert inputs from HW -> HW\n",
        "        inputs = inputs.permute(0, 1).contiguous()\n",
        "        input_shape = inputs.shape\n",
        "\n",
        "        # Flatten input\n",
        "        flat_input = inputs.view(-1, self._embedding_dim)\n",
        "\n",
        "        # Calculate distances\n",
        "        distances = (torch.sum(flat_input**2, dim=1, keepdim=True)\n",
        "                    + torch.sum(self._embedding.weight**2, dim=1)\n",
        "                    - 2 * torch.matmul(flat_input, self._embedding.weight.t()))\n",
        "\n",
        "        # Encoding\n",
        "        encoding_indices = torch.argmin(distances, dim=1).unsqueeze(1)\n",
        "        encodings = torch.zeros(encoding_indices.shape[0], self._num_embeddings, device=inputs.device)\n",
        "        encodings.scatter_(1, encoding_indices, 1)\n",
        "\n",
        "        # Quantize and unflatten\n",
        "        quantized = torch.matmul(encodings, self._embedding.weight).view(input_shape)\n",
        "\n",
        "        # Loss\n",
        "        e_latent_loss = F.mse_loss(quantized.detach(), inputs)\n",
        "        q_latent_loss = F.mse_loss(quantized, inputs.detach())\n",
        "        loss = q_latent_loss + self._commitment_cost * e_latent_loss\n",
        "\n",
        "        quantized = inputs + (quantized - inputs).detach()\n",
        "        avg_probs = torch.mean(encodings, dim=0)\n",
        "        perplexity = torch.exp(-torch.sum(avg_probs * torch.log(avg_probs + 1e-10)))\n",
        "\n",
        "        # convert quantized from BHWC -> BCHW\n",
        "        return loss, quantized.permute(0, 1).contiguous(), perplexity, encodings # (0, 3, 1, 2)"
      ]
    },
    {
      "cell_type": "markdown",
      "metadata": {
        "id": "gXrFrH_UrCi3"
      },
      "source": [
        "We will also implement a slightly modified version  which will use exponential moving averages to update the embedding vectors instead of an auxillary loss. This has the advantage that the embedding updates are independent of the choice of optimizer for the encoder, decoder and other parts of the architecture. For most experiments the EMA version trains faster than the non-EMA version."
      ]
    },
    {
      "cell_type": "code",
      "execution_count": 9,
      "metadata": {
        "id": "PRx68eOsrCi3"
      },
      "outputs": [],
      "source": [
        "class VectorQuantizerEMA(nn.Module):\n",
        "    def __init__(self, num_embeddings, embedding_dim, commitment_cost, decay, epsilon=1e-5):\n",
        "        super(VectorQuantizerEMA, self).__init__()\n",
        "\n",
        "        self._embedding_dim = embedding_dim\n",
        "        self._num_embeddings = num_embeddings\n",
        "\n",
        "        self._embedding = nn.Embedding(self._num_embeddings, self._embedding_dim)\n",
        "        self._embedding.weight.data.normal_()\n",
        "        self._commitment_cost = commitment_cost\n",
        "\n",
        "        self.register_buffer('_ema_cluster_size', torch.zeros(num_embeddings))\n",
        "        self._ema_w = nn.Parameter(torch.Tensor(num_embeddings, self._embedding_dim))\n",
        "        self._ema_w.data.normal_()\n",
        "\n",
        "        self._decay = decay\n",
        "        self._epsilon = epsilon\n",
        "\n",
        "    def forward(self, inputs):\n",
        "        # convert inputs from BCHW -> BHWC\n",
        "        inputs = inputs.permute(0, 1).contiguous() # (0, 2, 3, 1)\n",
        "        input_shape = inputs.shape\n",
        "\n",
        "        # Flatten input\n",
        "        flat_input = inputs.view(-1, self._embedding_dim)\n",
        "\n",
        "        # Calculate distances\n",
        "        distances = (torch.sum(flat_input**2, dim=1, keepdim=True)\n",
        "                    + torch.sum(self._embedding.weight**2, dim=1)\n",
        "                    - 2 * torch.matmul(flat_input, self._embedding.weight.t()))\n",
        "\n",
        "        # Encoding\n",
        "        encoding_indices = torch.argmin(distances, dim=1).unsqueeze(1)\n",
        "        encodings = torch.zeros(encoding_indices.shape[0], self._num_embeddings, device=inputs.device)\n",
        "        encodings.scatter_(1, encoding_indices, 1)\n",
        "\n",
        "        # Quantize and unflatten\n",
        "        quantized = torch.matmul(encodings, self._embedding.weight).view(input_shape)\n",
        "\n",
        "        # Use EMA to update the embedding vectors\n",
        "        if self.training:\n",
        "            self._ema_cluster_size = self._ema_cluster_size * self._decay + \\\n",
        "                                     (1 - self._decay) * torch.sum(encodings, 0)\n",
        "\n",
        "            # Laplace smoothing of the cluster size\n",
        "            n = torch.sum(self._ema_cluster_size.data)\n",
        "            self._ema_cluster_size = (\n",
        "                (self._ema_cluster_size + self._epsilon)\n",
        "                / (n + self._num_embeddings * self._epsilon) * n)\n",
        "\n",
        "            dw = torch.matmul(encodings.t(), flat_input)\n",
        "            self._ema_w = nn.Parameter(self._ema_w * self._decay + (1 - self._decay) * dw)\n",
        "\n",
        "            self._embedding.weight = nn.Parameter(self._ema_w / self._ema_cluster_size.unsqueeze(1))\n",
        "\n",
        "        # Loss\n",
        "        e_latent_loss = F.mse_loss(quantized.detach(), inputs)\n",
        "        loss = self._commitment_cost * e_latent_loss\n",
        "\n",
        "        # Straight Through Estimator\n",
        "        quantized = inputs + (quantized - inputs).detach()\n",
        "        avg_probs = torch.mean(encodings, dim=0)\n",
        "        perplexity = torch.exp(-torch.sum(avg_probs * torch.log(avg_probs + 1e-10)))\n",
        "\n",
        "        # convert quantized from BHWC -> BCHW\n",
        "        return loss, quantized.permute(0, 1).contiguous(), perplexity, encodings # (0, 3, 1, 2)"
      ]
    },
    {
      "cell_type": "markdown",
      "metadata": {
        "id": "mBBSF1p1rCi4"
      },
      "source": [
        "## Encoder & Decoder Architecture\n",
        "\n",
        "The encoder and decoder architecture is based on a ResNet and is implemented below:"
      ]
    },
    {
      "cell_type": "code",
      "execution_count": 10,
      "metadata": {
        "id": "DlplEblqrCi4"
      },
      "outputs": [],
      "source": [
        "\n",
        "class Residual(nn.Module):\n",
        "    def __init__(self, in_channels, num_hiddens, num_residual_hiddens):\n",
        "        super(Residual, self).__init__()\n",
        "        self._block = nn.Sequential(\n",
        "            nn.ReLU(True),\n",
        "            nn.Linear(in_features=in_channels,\n",
        "                      out_features=num_residual_hiddens),\n",
        "            nn.ReLU(True),\n",
        "            nn.Linear(in_features=num_residual_hiddens,\n",
        "                      out_features=num_hiddens) # Replaced with nn.Linear\n",
        "        )\n",
        "\n",
        "    def forward(self, x):\n",
        "        return x + self._block(x)\n",
        "        # x = x.unsqueeze(2)  # Add an extra dimension\n",
        "        # output = x + self._block(x)\n",
        "        # return output.squeeze(2)  # Remove the extra dimension\n",
        "\n",
        "'''\n",
        "class Residual(nn.Module):\n",
        "    def __init__(self, in_channels, num_hiddens, num_residual_hiddens):\n",
        "        super(Residual, self).__init__()\n",
        "        self._block = nn.Sequential(\n",
        "            nn.ReLU(True),\n",
        "            nn.Conv1d(in_channels=in_channels, out_channels=num_residual_hiddens,\n",
        "                      kernel_size=1, stride=1, bias=False)\n",
        "        )\n",
        "\n",
        "    def forward(self, x):\n",
        "        x = x.unsqueeze(2)  # Add an extra dimension\n",
        "        output = x + self._block(x)\n",
        "        return output.squeeze(2)  # Remove the extra dimension\n",
        "'''\n",
        "class ResidualStack(nn.Module):\n",
        "    def __init__(self, in_channels, num_hiddens, num_residual_layers, num_residual_hiddens):\n",
        "        super(ResidualStack, self).__init__()\n",
        "        self._num_residual_layers = num_residual_layers\n",
        "        self._layers = nn.ModuleList([Residual(in_channels, num_hiddens, num_residual_hiddens)\n",
        "                             for _ in range(self._num_residual_layers)])\n",
        "\n",
        "    def forward(self, x):\n",
        "        for i in range(self._num_residual_layers):\n",
        "            x = self._layers[i](x)\n",
        "        return F.relu(x)"
      ]
    },
    {
      "cell_type": "code",
      "execution_count": 11,
      "metadata": {
        "id": "aUz-8SmDrCi4"
      },
      "outputs": [],
      "source": [
        "class Encoder(nn.Module):\n",
        "    def __init__(self, in_channels, num_hiddens, num_residual_layers, num_residual_hiddens):\n",
        "        super(Encoder, self).__init__()\n",
        "\n",
        "        self._linear_1 = nn.Linear(in_channels*64, num_hiddens//2)\n",
        "        self._linear_2 = nn.Linear(num_hiddens//2, num_hiddens)\n",
        "\n",
        "\n",
        "        self._residual_stack = ResidualStack(in_channels=128, #num_hiddens,\n",
        "                                             num_hiddens=1,\n",
        "                                             num_residual_layers=1,\n",
        "                                             num_residual_hiddens=1)\n",
        "\n",
        "\n",
        "    def forward(self, inputs):\n",
        "        x = self._linear_1(inputs.view(inputs.size(0), -1))\n",
        "        print(\"x=\", x.shape)\n",
        "        x = F.relu(x)\n",
        "\n",
        "        x = self._linear_2(x)\n",
        "        x = F.relu(x)\n",
        "\n",
        "        return self._residual_stack(x)"
      ]
    },
    {
      "cell_type": "code",
      "execution_count": 12,
      "metadata": {
        "id": "kP6Yhd3MrCi5"
      },
      "outputs": [],
      "source": [
        "class Decoder(nn.Module):\n",
        "    def __init__(self, in_channels, num_hiddens, num_residual_layers, num_residual_hiddens):\n",
        "        super(Decoder, self).__init__()\n",
        "\n",
        "        self._linear_1 = nn.Linear(in_channels, num_hiddens)\n",
        "\n",
        "        self._residual_stack = ResidualStack(in_channels=128, #num_hiddens,\n",
        "                                             num_hiddens=1,\n",
        "                                             num_residual_layers=1,\n",
        "                                             num_residual_hiddens=1)\n",
        "\n",
        "        self._linear_2 = nn.Linear(num_hiddens, num_hiddens//2)\n",
        "\n",
        "    def forward(self, inputs):\n",
        "        x = self._linear_1(inputs.view(inputs.size(0), -1))\n",
        "        # print(\"x=\", x.shape)\n",
        "        x = self._residual_stack(x)\n",
        "\n",
        "        x = self._linear_2(x)\n",
        "        x = F.relu(x)\n",
        "\n",
        "        return x"
      ]
    },
    {
      "cell_type": "markdown",
      "metadata": {
        "id": "faiz3uawrCi5"
      },
      "source": [
        "## Train\n",
        "\n",
        "We use the hyperparameters from the author's code:"
      ]
    },
    {
      "cell_type": "code",
      "execution_count": 13,
      "metadata": {
        "id": "9IHhIF9crCi5"
      },
      "outputs": [],
      "source": [
        "batch_size = 256\n",
        "num_training_updates = 15000\n",
        "\n",
        "num_hiddens = 128\n",
        "num_residual_hiddens = 32\n",
        "num_residual_layers = 2\n",
        "\n",
        "embedding_dim = 64\n",
        "num_embeddings = 512\n",
        "\n",
        "commitment_cost = 0.25\n",
        "\n",
        "decay = 0.99\n",
        "\n",
        "learning_rate = 1e-3"
      ]
    },
    {
      "cell_type": "code",
      "execution_count": 14,
      "metadata": {
        "colab": {
          "base_uri": "https://localhost:8080/",
          "height": 375
        },
        "id": "JW6vZgTorCi6",
        "outputId": "5076dc89-f6a4-4662-cca0-8db26f88635a"
      },
      "outputs": [],
      "source": [
        "import torch\n",
        "from torch.utils.data import DataLoader, TensorDataset\n",
        "\n",
        "# Create a TensorDataset from param_chunks_np\n",
        "dataset = TensorDataset(torch.from_numpy(param_chunks_np))\n",
        "\n",
        "# Set the batch size and other DataLoader parameters\n",
        "batch_size = 64\n",
        "shuffle = True\n",
        "pin_memory = True\n",
        "\n",
        "# Create the DataLoader using the custom dataset\n",
        "training_loader = DataLoader(dataset, batch_size=batch_size, shuffle=shuffle, pin_memory=pin_memory)\n",
        "data = next(iter(training_loader))\n",
        "data = torch.stack(data).to(device)"
      ]
    },
    {
      "cell_type": "code",
      "execution_count": 15,
      "metadata": {
        "colab": {
          "base_uri": "https://localhost:8080/",
          "height": 1000
        },
        "id": "Yemq6mH1XYaz",
        "outputId": "a9dd1b07-de78-4d5c-c7b1-3012ef521854"
      },
      "outputs": [
        {
          "name": "stdout",
          "output_type": "stream",
          "text": [
            "Files already downloaded and verified\n"
          ]
        }
      ],
      "source": [
        "cifar_training_data = datasets.CIFAR10(root=\"data\", train=True, download=True,\n",
        "                                  transform=transforms.Compose([\n",
        "                                      transforms.ToTensor(),\n",
        "                                      transforms.Normalize((0.5,0.5,0.5), (1.0,1.0,1.0))\n",
        "                                  ]))\n",
        "\n",
        "cifar_training_loader = DataLoader(cifar_training_data,\n",
        "                             batch_size=batch_size,\n",
        "                             shuffle=True,\n",
        "                             pin_memory=True)\n",
        "\n",
        "(data, _) = next(iter(cifar_training_loader))\n",
        "data = data.to(device)"
      ]
    },
    {
      "cell_type": "code",
      "execution_count": 16,
      "metadata": {
        "id": "JDTLi8nUrCi6"
      },
      "outputs": [],
      "source": [
        "class Model(nn.Module):\n",
        "    def __init__(self, num_hiddens, num_residual_layers, num_residual_hiddens,\n",
        "                 num_embeddings, embedding_dim, commitment_cost, decay=0):\n",
        "        super(Model, self).__init__()\n",
        "\n",
        "        # Updated input size to [1, 64]\n",
        "        self._encoder = Encoder(1, num_hiddens,\n",
        "                                num_residual_layers,\n",
        "                                num_residual_hiddens)\n",
        "        print(self._encoder)\n",
        "\n",
        "        # Replaced with nn.Linear\n",
        "        self._pre_vq_linear = nn.Linear(num_hiddens, embedding_dim)\n",
        "\n",
        "        print(self._pre_vq_linear)\n",
        "\n",
        "        if decay > 0.0:\n",
        "            self._vq_vae = VectorQuantizerEMA(num_embeddings, embedding_dim,\n",
        "                                              commitment_cost, decay)\n",
        "        else:\n",
        "            self._vq_vae = VectorQuantizer(num_embeddings, embedding_dim, commitment_cost)\n",
        "\n",
        "        print(self._vq_vae)\n",
        "\n",
        "        self._decoder = Decoder(embedding_dim,\n",
        "                                num_hiddens,\n",
        "                                num_residual_layers,\n",
        "                                num_residual_hiddens)\n",
        "        print(self._decoder)\n",
        "\n",
        "    def forward(self, x):\n",
        "        z = self._encoder(x)\n",
        "        z = z.view(z.size(0), -1)  # Flatten the tensor\n",
        "        z = self._pre_vq_linear(z)\n",
        "\n",
        "        loss, quantized, perplexity, _ = self._vq_vae(z)\n",
        "        x_recon = self._decoder(quantized)\n",
        "\n",
        "        # x_recon = 0\n",
        "        return loss, x_recon, perplexity"
      ]
    },
    {
      "cell_type": "code",
      "execution_count": 17,
      "metadata": {
        "colab": {
          "base_uri": "https://localhost:8080/"
        },
        "id": "pGDClXkCrCi6",
        "outputId": "a4b14eb6-8600-46ea-962e-61d23baf8dfd"
      },
      "outputs": [
        {
          "name": "stdout",
          "output_type": "stream",
          "text": [
            "Encoder(\n",
            "  (_linear_1): Linear(in_features=64, out_features=64, bias=True)\n",
            "  (_linear_2): Linear(in_features=64, out_features=128, bias=True)\n",
            "  (_residual_stack): ResidualStack(\n",
            "    (_layers): ModuleList(\n",
            "      (0): Residual(\n",
            "        (_block): Sequential(\n",
            "          (0): ReLU(inplace=True)\n",
            "          (1): Linear(in_features=128, out_features=1, bias=True)\n",
            "          (2): ReLU(inplace=True)\n",
            "          (3): Linear(in_features=1, out_features=1, bias=True)\n",
            "        )\n",
            "      )\n",
            "    )\n",
            "  )\n",
            ")\n",
            "Linear(in_features=128, out_features=64, bias=True)\n",
            "VectorQuantizerEMA(\n",
            "  (_embedding): Embedding(512, 64)\n",
            ")\n",
            "Decoder(\n",
            "  (_linear_1): Linear(in_features=64, out_features=128, bias=True)\n",
            "  (_residual_stack): ResidualStack(\n",
            "    (_layers): ModuleList(\n",
            "      (0): Residual(\n",
            "        (_block): Sequential(\n",
            "          (0): ReLU(inplace=True)\n",
            "          (1): Linear(in_features=128, out_features=1, bias=True)\n",
            "          (2): ReLU(inplace=True)\n",
            "          (3): Linear(in_features=1, out_features=1, bias=True)\n",
            "        )\n",
            "      )\n",
            "    )\n",
            "  )\n",
            "  (_linear_2): Linear(in_features=128, out_features=64, bias=True)\n",
            ")\n"
          ]
        }
      ],
      "source": [
        "model = Model(num_hiddens, num_residual_layers, num_residual_hiddens,\n",
        "              num_embeddings, embedding_dim,\n",
        "              commitment_cost, decay).to(device)"
      ]
    },
    {
      "cell_type": "code",
      "execution_count": 18,
      "metadata": {
        "id": "t0hRFXzlrCi6"
      },
      "outputs": [],
      "source": [
        "optimizer = optim.Adam(model.parameters(), lr=learning_rate, amsgrad=False)"
      ]
    },
    {
      "cell_type": "code",
      "execution_count": 19,
      "metadata": {
        "colab": {
          "base_uri": "https://localhost:8080/",
          "height": 1000
        },
        "id": "LeKJtXg-rCi7",
        "outputId": "143927c9-94cd-4d1b-d48a-a899261a02bf"
      },
      "outputs": [
        {
          "data": {
            "text/plain": [
              "Model(\n",
              "  (_encoder): Encoder(\n",
              "    (_linear_1): Linear(in_features=64, out_features=64, bias=True)\n",
              "    (_linear_2): Linear(in_features=64, out_features=128, bias=True)\n",
              "    (_residual_stack): ResidualStack(\n",
              "      (_layers): ModuleList(\n",
              "        (0): Residual(\n",
              "          (_block): Sequential(\n",
              "            (0): ReLU(inplace=True)\n",
              "            (1): Linear(in_features=128, out_features=1, bias=True)\n",
              "            (2): ReLU(inplace=True)\n",
              "            (3): Linear(in_features=1, out_features=1, bias=True)\n",
              "          )\n",
              "        )\n",
              "      )\n",
              "    )\n",
              "  )\n",
              "  (_pre_vq_linear): Linear(in_features=128, out_features=64, bias=True)\n",
              "  (_vq_vae): VectorQuantizerEMA(\n",
              "    (_embedding): Embedding(512, 64)\n",
              "  )\n",
              "  (_decoder): Decoder(\n",
              "    (_linear_1): Linear(in_features=64, out_features=128, bias=True)\n",
              "    (_residual_stack): ResidualStack(\n",
              "      (_layers): ModuleList(\n",
              "        (0): Residual(\n",
              "          (_block): Sequential(\n",
              "            (0): ReLU(inplace=True)\n",
              "            (1): Linear(in_features=128, out_features=1, bias=True)\n",
              "            (2): ReLU(inplace=True)\n",
              "            (3): Linear(in_features=1, out_features=1, bias=True)\n",
              "          )\n",
              "        )\n",
              "      )\n",
              "    )\n",
              "    (_linear_2): Linear(in_features=128, out_features=64, bias=True)\n",
              "  )\n",
              ")"
            ]
          },
          "execution_count": 19,
          "metadata": {},
          "output_type": "execute_result"
        }
      ],
      "source": [
        "model.train()"
      ]
    },
    {
      "cell_type": "markdown",
      "metadata": {
        "id": "0kMbb0fPrCi7"
      },
      "source": [
        "## Tokenization Output"
      ]
    },
    {
      "cell_type": "code",
      "execution_count": 20,
      "metadata": {
        "id": "CnVCwvK8rCi8"
      },
      "outputs": [
        {
          "name": "stdout",
          "output_type": "stream",
          "text": [
            "x= torch.Size([1, 64])\n",
            "vq_output_eval= tensor([[-0.0226,  0.0553,  0.0072,  0.0554, -0.0503,  0.0721, -0.0739, -0.0686,\n",
            "         -0.0521,  0.0695,  0.0535, -0.0215,  0.0245,  0.0329,  0.0499,  0.0470,\n",
            "          0.0153,  0.0074, -0.0805,  0.0336,  0.0758, -0.0366, -0.0881,  0.0197,\n",
            "          0.0781,  0.0738, -0.0585, -0.0375, -0.0020,  0.0396, -0.0657,  0.0336,\n",
            "         -0.0466,  0.0026, -0.0411,  0.0302, -0.0767,  0.0041,  0.0274, -0.0274,\n",
            "         -0.0293,  0.0523, -0.0525, -0.0084,  0.0741, -0.0214,  0.0642,  0.0322,\n",
            "          0.0188,  0.0557, -0.0629,  0.0315,  0.0312,  0.0126, -0.0788,  0.0150,\n",
            "          0.0250,  0.0125,  0.0661, -0.0430, -0.0037, -0.0273,  0.0673, -0.0777]],\n",
            "       device='cuda:0', grad_fn=<AddmmBackward0>)\n",
            "vq_output_eval.shape= torch.Size([1, 64])\n",
            "tensor([[-0.8677,  1.1552, -0.3168,  1.4116, -0.0774, -0.2322,  0.3102,  0.5901,\n",
            "          0.4754, -0.4317,  0.4657,  0.7430, -0.2898, -0.5532,  0.4064,  1.0444,\n",
            "         -1.3717,  0.0191,  0.1230,  0.6764,  2.1949,  1.7010,  0.1690,  0.8723,\n",
            "          0.5095,  0.0581,  1.1583,  0.5449,  1.0800, -0.2006,  1.2997,  1.7882,\n",
            "         -0.4075,  0.7087,  0.5355, -1.2969, -0.1816, -0.2213,  0.4584,  1.0495,\n",
            "          0.0647, -1.0365,  0.3043, -0.9567,  0.4300, -0.3670,  0.0298,  0.3785,\n",
            "         -1.2838, -0.8094, -0.2404,  0.4676,  0.2909, -0.4728, -0.4378, -0.9322,\n",
            "         -0.5051,  0.5777, -0.3437, -0.1766,  1.1630, -0.0154, -0.0232,  0.0124]],\n",
            "       device='cuda:0', grad_fn=<PermuteBackward0>)\n",
            "valid_quantize= tensor([[-0.8677,  1.1552, -0.3168,  1.4116, -0.0774, -0.2322,  0.3102,  0.5901,\n",
            "          0.4754, -0.4317,  0.4657,  0.7430, -0.2898, -0.5532,  0.4064,  1.0444,\n",
            "         -1.3717,  0.0191,  0.1230,  0.6764,  2.1949,  1.7010,  0.1690,  0.8723,\n",
            "          0.5095,  0.0581,  1.1583,  0.5449,  1.0800, -0.2006,  1.2997,  1.7882,\n",
            "         -0.4075,  0.7087,  0.5355, -1.2969, -0.1816, -0.2213,  0.4584,  1.0495,\n",
            "          0.0647, -1.0365,  0.3043, -0.9567,  0.4300, -0.3670,  0.0298,  0.3785,\n",
            "         -1.2838, -0.8094, -0.2404,  0.4676,  0.2909, -0.4728, -0.4378, -0.9322,\n",
            "         -0.5051,  0.5777, -0.3437, -0.1766,  1.1630, -0.0154, -0.0232,  0.0124]],\n",
            "       device='cuda:0', grad_fn=<PermuteBackward0>)\n",
            "valid_quantize.shape= torch.Size([1, 64])\n"
          ]
        }
      ],
      "source": [
        "model.eval()\n",
        "\n",
        "data = next(iter(training_loader))\n",
        "train_originals = torch.stack(data).to(device)\n",
        "vq_output_eval = model._pre_vq_linear(model._encoder(train_originals))\n",
        "print(\"vq_output_eval=\", vq_output_eval)\n",
        "print(\"vq_output_eval.shape=\", vq_output_eval.shape)\n",
        "_, valid_quantize, _, _ = model._vq_vae(vq_output_eval)\n",
        "print(valid_quantize)\n",
        "print(\"valid_quantize=\", valid_quantize)\n",
        "print(\"valid_quantize.shape=\", valid_quantize.shape)\n",
        "valid_reconstructions = model._decoder(valid_quantize)"
      ]
    },
    {
      "cell_type": "code",
      "execution_count": 21,
      "metadata": {
        "id": "l9RF5noYrCi8"
      },
      "outputs": [],
      "source": [
        "def show(img):\n",
        "    npimg = img.numpy()\n",
        "    fig = plt.imshow(np.transpose(npimg, (1,2,0)), interpolation='nearest')\n",
        "    fig.axes.get_xaxis().set_visible(False)\n",
        "    fig.axes.get_yaxis().set_visible(False)"
      ]
    },
    {
      "cell_type": "code",
      "execution_count": 22,
      "metadata": {
        "id": "3VAi9TanrCi8"
      },
      "outputs": [
        {
          "name": "stderr",
          "output_type": "stream",
          "text": [
            "Clipping input data to the valid range for imshow with RGB data ([0..1] for floats or [0..255] for integers).\n"
          ]
        },
        {
          "data": {
            "image/png": "[encoded data removed]",
            "text/plain": [
              "<Figure size 640x480 with 1 Axes>"
            ]
          },
          "metadata": {},
          "output_type": "display_data"
        }
      ],
      "source": [
        "show(make_grid(valid_reconstructions.cpu().data)+0.5, )"
      ]
    },
    {
      "cell_type": "code",
      "execution_count": 23,
      "metadata": {
        "id": "J620xHA6rCi8"
      },
      "outputs": [
        {
          "name": "stderr",
          "output_type": "stream",
          "text": [
            "Clipping input data to the valid range for imshow with RGB data ([0..1] for floats or [0..255] for integers).\n"
          ]
        },
        {
          "data": {
            "image/png": "[encoded data removed]",
            "text/plain": [
              "<Figure size 640x480 with 1 Axes>"
            ]
          },
          "metadata": {},
          "output_type": "display_data"
        }
      ],
      "source": [
        "show(make_grid(train_originals.cpu()+0.5))"
      ]
    },
    {
      "cell_type": "markdown",
      "metadata": {
        "id": "Zqs594NmrCi8"
      },
      "source": [
        "## View Embedding"
      ]
    },
    {
      "cell_type": "code",
      "execution_count": 24,
      "metadata": {
        "id": "oW0ZlSrHrCi8"
      },
      "outputs": [
        {
          "name": "stdout",
          "output_type": "stream",
          "text": [
            "\u001b[33mWARNING: Ignoring invalid distribution -ransformers (/nfs-share/wz341/miniconda3/envs/py39/lib/python3.9/site-packages)\u001b[0m\u001b[33m\n",
            "\u001b[0m\u001b[33mWARNING: Skipping umap as it is not installed.\u001b[0m\u001b[33m\n",
            "\u001b[0m\u001b[33mWARNING: Ignoring invalid distribution -ransformers (/nfs-share/wz341/miniconda3/envs/py39/lib/python3.9/site-packages)\u001b[0m\u001b[33m\n",
            "\u001b[0mRequirement already satisfied: umap-learn in /nfs-share/wz341/miniconda3/envs/py39/lib/python3.9/site-packages (0.5.4)\n",
            "Requirement already satisfied: numpy>=1.17 in /home/wz341/.local/lib/python3.9/site-packages (from umap-learn) (1.25.2)\n",
            "Requirement already satisfied: scipy>=1.3.1 in /nfs-share/wz341/miniconda3/envs/py39/lib/python3.9/site-packages (from umap-learn) (1.10.1)\n",
            "Requirement already satisfied: scikit-learn>=0.22 in /nfs-share/wz341/miniconda3/envs/py39/lib/python3.9/site-packages (from umap-learn) (1.0.1)\n",
            "Requirement already satisfied: numba>=0.51.2 in /nfs-share/wz341/miniconda3/envs/py39/lib/python3.9/site-packages (from umap-learn) (0.58.0)\n",
            "Requirement already satisfied: pynndescent>=0.5 in /nfs-share/wz341/miniconda3/envs/py39/lib/python3.9/site-packages (from umap-learn) (0.5.10)\n",
            "Requirement already satisfied: tqdm in /nfs-share/wz341/miniconda3/envs/py39/lib/python3.9/site-packages (from umap-learn) (4.64.0)\n",
            "Requirement already satisfied: tbb>=2019.0 in /nfs-share/wz341/miniconda3/envs/py39/lib/python3.9/site-packages (from umap-learn) (2021.10.0)\n",
            "Requirement already satisfied: llvmlite<0.42,>=0.41.0dev0 in /nfs-share/wz341/miniconda3/envs/py39/lib/python3.9/site-packages (from numba>=0.51.2->umap-learn) (0.41.0)\n",
            "Requirement already satisfied: joblib>=0.11 in /nfs-share/wz341/miniconda3/envs/py39/lib/python3.9/site-packages (from pynndescent>=0.5->umap-learn) (1.3.1)\n",
            "Requirement already satisfied: threadpoolctl>=2.0.0 in /nfs-share/wz341/miniconda3/envs/py39/lib/python3.9/site-packages (from scikit-learn>=0.22->umap-learn) (3.2.0)\n",
            "\u001b[33mWARNING: Ignoring invalid distribution -ransformers (/nfs-share/wz341/miniconda3/envs/py39/lib/python3.9/site-packages)\u001b[0m\u001b[33m\n",
            "\u001b[0m"
          ]
        }
      ],
      "source": [
        "! pip uninstall umap\n",
        "! pip install umap-learn\n",
        "\n",
        "import umap.umap_ as umap\n",
        "\n",
        "proj = umap.UMAP(n_neighbors=3,\n",
        "                 min_dist=0.1,\n",
        "                 metric='cosine').fit_transform(model._vq_vae._embedding.weight.data.cpu())"
      ]
    },
    {
      "cell_type": "code",
      "execution_count": 25,
      "metadata": {
        "id": "dNXVBcWCrCi9"
      },
      "outputs": [
        {
          "data": {
            "text/plain": [
              "<matplotlib.collections.PathCollection at 0x7f6cb4093b50>"
            ]
          },
          "execution_count": 25,
          "metadata": {},
          "output_type": "execute_result"
        },
        {
          "data": {
            "image/png": "[encoded data removed]",
            "text/plain": [
              "<Figure size 640x480 with 1 Axes>"
            ]
          },
          "metadata": {},
          "output_type": "display_data"
        }
      ],
      "source": [
        "plt.scatter(proj[:,0], proj[:,1], alpha=0.3)"
      ]
    }
  ],
  "metadata": {
    "colab": {
      "include_colab_link": true,
      "provenance": []
    },
    "kernelspec": {
      "display_name": "Python 3",
      "language": "python",
      "name": "python3"
    },
    "language_info": {
      "codemirror_mode": {
        "name": "ipython",
        "version": 3
      },
      "file_extension": ".py",
      "mimetype": "text/x-python",
      "name": "python",
      "nbconvert_exporter": "python",
      "pygments_lexer": "ipython3",
      "version": "3.9.17"
    }
  },
  "nbformat": 4,
  "nbformat_minor": 0
}
